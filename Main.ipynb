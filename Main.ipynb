{
 "cells": [
  {
   "cell_type": "markdown",
   "metadata": {},
   "source": [
    "<h1> Import Libraries and Boring stuffs </h1>"
   ]
  },
  {
   "cell_type": "code",
   "execution_count": 1,
   "metadata": {
    "collapsed": true
   },
   "outputs": [],
   "source": [
    "%matplotlib inline\n",
    "\n",
    "#imports\n",
    "import pandas as pd\n",
    "import numpy as np\n",
    "import matplotlib.pyplot as plt\n",
    "import math\n",
    "import random\n",
    "from random import randint\n",
    "from sklearn.model_selection import train_test_split\n",
    "from sklearn.metrics import classification_report\n",
    "from sklearn.metrics import accuracy_score, f1_score, precision_score, recall_score, classification_report, confusion_matrix\n",
    "from NeuralNetwork import Layer, NeuralNetwork\n",
    "from PSO import ParticleStructure, Swarm\n",
    "import itertools\n",
    "import time\n",
    "\n",
    "#supress all warnings\n",
    "import warnings\n",
    "warnings.filterwarnings('ignore')\n"
   ]
  },
  {
   "cell_type": "markdown",
   "metadata": {},
   "source": [
    "<h1> Data File Import and Preprocessing </h1>"
   ]
  },
  {
   "cell_type": "code",
   "execution_count": 2,
   "metadata": {},
   "outputs": [],
   "source": [
    "#import data to pandas dataframe\n",
    "df = pd.read_csv('input.csv')\n",
    "\n",
    "#convert dataframe to numpy array\n",
    "data_copy = df.values\n",
    "data = data_copy[:,1:]\n",
    "\n",
    "#data splitting into training and test\n",
    "X_tv, X_test, y_tv, y_test = train_test_split(data[:,0:5], data[:,5:], test_size = 0.092467, random_state = 42)\n",
    "X_train, X_validation, y_train, y_validation = train_test_split(X_tv, y_tv, test_size = 0.11111, random_state = 40)\n",
    "\n",
    "\n",
    "#dimension fix nd reshape\n",
    "X_train = X_train.astype(float).T\n",
    "X_validation = X_validation.astype(float).T\n",
    "X_test = X_test.astype(float).T\n",
    "\n",
    "y_train = y_train.astype(float).T\n",
    "y_validation = y_validation.astype(float).T\n",
    "y_test = y_test.astype(float).T\n",
    "\n",
    "#function body for prediction mapping\n",
    "def prediction_mapping(predict):\n",
    "    predict = np.round(predict, 2)\n",
    "    predict[predict<0.5] = 0\n",
    "    predict[predict>=0.5] = 1\n",
    "    return predict"
   ]
  },
  {
   "cell_type": "markdown",
   "metadata": {},
   "source": [
    "<h1> 1. Only Neural Network with Backpropagation </h1>"
   ]
  },
  {
   "cell_type": "markdown",
   "metadata": {},
   "source": [
    "<p> In this segment, I'll train a simple neural network on the IRIS Dataset and observe how much accuracy it achieves on training and test dataset. Also, I'll record the convergence time in terms of epochs needed. The neural network will have 4 input nodes, 2 hidden layers each having 16 hidden nodes and 3 output nodes. Each output can be (1,0,0) or (0,1,0) or (0,0,1) which represents the three classes - setosa, versicolor and virginica respectively. </p>"
   ]
  },
  {
   "cell_type": "code",
   "execution_count": 3,
   "metadata": {},
   "outputs": [
    {
     "name": "stdout",
     "output_type": "stream",
     "text": [
      "Backpropagation Optimization Running\n",
      "Loss in Epoch 0 =  [3.91916633]\n",
      "Validation Loss in Epoch 0 =  [3.87395866]\n",
      "Loss in Epoch 500 =  [3.29220405]\n",
      "Validation Loss in Epoch 500 =  [3.28164712]\n",
      "Loss in Epoch 1000 =  [3.2737684]\n",
      "Validation Loss in Epoch 1000 =  [3.26296014]\n",
      "Loss in Epoch 1500 =  [3.18592883]\n",
      "Validation Loss in Epoch 1500 =  [3.17422953]\n",
      "Loss in Epoch 2000 =  [3.01624967]\n",
      "Validation Loss in Epoch 2000 =  [3.00530815]\n",
      "Runtime of Backprop:  14.483297109603882\n"
     ]
    },
    {
     "data": {
      "image/png": "[encoded data removed]",
      "text/plain": [
       "<matplotlib.figure.Figure at 0xfefd8c0780>"
      ]
     },
     "metadata": {},
     "output_type": "display_data"
    }
   ],
   "source": [
    "#start timer\n",
    "tick = time.time()\n",
    "\n",
    "#training parameters\n",
    "num_epoch = 2000\n",
    "epoch = np.arange(0, num_epoch+1)\n",
    "loss = np.zeros((num_epoch+1, 1))\n",
    "validation_loss = np.zeros((num_epoch+1, 1))\n",
    "\n",
    "#network parameters\n",
    "number_of_hidden_layers = 2\n",
    "number_of_input_layer_units = X_train.shape[0]\n",
    "number_of_hidden_layer_units = 8\n",
    "number_of_output_layer_units = 5\n",
    "number_of_samples = X_train.shape[1]\n",
    "hidden_layer_activation = [1,0,0]\n",
    "N_Net = NeuralNetwork([number_of_hidden_layers, number_of_input_layer_units, number_of_hidden_layer_units, \\\n",
    "                   number_of_output_layer_units, number_of_samples, hidden_layer_activation])\n",
    "N_Net.structure_define()\n",
    "\n",
    "#main loop\n",
    "print(\"Backpropagation Optimization Running\")\n",
    "for i in range(num_epoch+1):\n",
    "    N_Net.forward_propagation(X_train)\n",
    "    loss[i] = N_Net.calculate_network_loss(y_train)\n",
    "    if(i%500==0): \n",
    "        print(\"Loss in Epoch\", i, \"= \", loss[i])\n",
    "    N_Net.backward_propagation(X_train, y_train)\n",
    "    #validation_test\n",
    "    N_Net.forward_propagation(X_validation)\n",
    "    validation_loss[i] = N_Net.calculate_network_loss(y_validation)\n",
    "    if(i)%500==0: \n",
    "        print(\"Validation Loss in Epoch\", i, \"= \", validation_loss[i])\n",
    "\n",
    "#calculate time\n",
    "tock = time.time()\n",
    "print(\"Runtime of Backprop: \", tock-tick)\n",
    "\n",
    "#plot\n",
    "plt.figure(1)\n",
    "plt.semilogy(epoch, loss, 'g', label='Training Loss')\n",
    "plt.semilogy(epoch, validation_loss, 'r', label='Validation Loss')\n",
    "plt.legend()\n",
    "plt.xlabel('Epoch')\n",
    "plt.ylabel('Error Amplitude in Log Dimension')\n",
    "plt.show()\n"
   ]
  },
  {
   "cell_type": "markdown",
   "metadata": {},
   "source": [
    "<h3> This segment is for showing Performance of N_Net on Test Data </h3>"
   ]
  },
  {
   "cell_type": "code",
   "execution_count": 4,
   "metadata": {},
   "outputs": [
    {
     "name": "stdout",
     "output_type": "stream",
     "text": [
      "Average Precision = 0.7335514358415121\n",
      "Average Recall = 0.6131043256997466\n",
      "Average F1 Score = 0.6342317079503561\n",
      "Average Accuracy = 0.6826608505997853\n"
     ]
    }
   ],
   "source": [
    "predict = N_Net.forward_propagation(X_test)\n",
    "y_predict = prediction_mapping(predict)\n",
    "\n",
    "y_test = np.where(y_test==1.0, 1, 0)\n",
    "\n",
    "avg_prec = 0\n",
    "avg_rec = 0\n",
    "avg_f1 = 0\n",
    "avg_accuracy = 0\n",
    "\n",
    "\n",
    "for i in range(y_test.shape[1]):\n",
    "    avg_prec = avg_prec + precision_score(y_test[:,i], y_predict[:,i])\n",
    "    avg_rec = avg_rec + recall_score(y_test[:,i], y_predict[:,i])\n",
    "    avg_f1 = avg_f1 + f1_score(y_test[:,i], y_predict[:,i])\n",
    "    avg_accuracy = avg_accuracy + accuracy_score(y_test[:,i], y_predict[:,i])\n",
    "    \n",
    "print(\"Average Precision =\", avg_prec/y_test.shape[1])\n",
    "print(\"Average Recall =\", avg_rec/y_test.shape[1]) \n",
    "print(\"Average F1 Score =\", avg_f1/y_test.shape[1])\n",
    "print (\"Average Accuracy =\", avg_accuracy/y_test.shape[1])\n"
   ]
  },
  {
   "cell_type": "markdown",
   "metadata": {},
   "source": [
    "<h1> 2. Neural Network with only PSO (No Backprop) </h1>"
   ]
  },
  {
   "cell_type": "markdown",
   "metadata": {},
   "source": [
    "<p>In this segment, I modified the neural network a little bit. Now I'll use only Particle Swarm Optimization for the weight updates. No backpropagation will be used. This is tested here because, typical Backpropagation method is prone to get stuck in the \"Local Optima\" which can probably be solved with Evolutionary Algorithms. [1] </p>\n",
    "<p> Neural Network will have the same structure as before. Neural Network will be initialized with Random Weights (used np.random.seed() value = 1), and then these weights will be optimized using PSO.</p>\n",
    "<p>Reference - [1] Palmes, P. P., Hayasaka, T., & Usui, S. (2005). Mutation-Based Genetic Neural Network. IEEE Transactions on Neural Networks, 16(3), 587–600. https://doi.org/10.1109/TNN.2005.844858 </p>"
   ]
  },
  {
   "cell_type": "code",
   "execution_count": 5,
   "metadata": {},
   "outputs": [
    {
     "name": "stdout",
     "output_type": "stream",
     "text": [
      "PSO Optimization Running\n",
      "Iteration Number:  100 Best Cost:  [3.07400797]\n",
      "Iteration Number:  200 Best Cost:  [2.90010995]\n",
      "Iteration Number:  300 Best Cost:  [2.86816263]\n",
      "Iteration Number:  400 Best Cost:  [2.85978517]\n",
      "Iteration Number:  500 Best Cost:  [2.80822022]\n",
      "Iteration Number:  600 Best Cost:  [2.80822022]\n",
      "Iteration Number:  700 Best Cost:  [2.80822022]\n",
      "Iteration Number:  800 Best Cost:  [2.72830081]\n",
      "Iteration Number:  900 Best Cost:  [2.72830081]\n",
      "Iteration Number:  1000 Best Cost:  [2.72830081]\n",
      "Runtime of PSO Net:  262.31129813194275\n"
     ]
    },
    {
     "data": {
      "image/png": "[encoded data removed]",
      "text/plain": [
       "<matplotlib.figure.Figure at 0xfefd8ac9e8>"
      ]
     },
     "metadata": {},
     "output_type": "display_data"
    }
   ],
   "source": [
    "#start timer\n",
    "tick = time.time()\n",
    "\n",
    "#global parameters\n",
    "maxIt = 1000 #number of generations\n",
    "epoch = np.arange(1, maxIt+1)\n",
    "nPop = 50\n",
    "np_loss = np.zeros((maxIt, 1))\n",
    "validation_loss = np.zeros((maxIt, 1))\n",
    "\n",
    "#network parameters\n",
    "number_of_hidden_layers = 2\n",
    "number_of_input_layer_units = X_train.shape[0]\n",
    "number_of_hidden_layer_units = 16\n",
    "number_of_output_layer_units = 5\n",
    "number_of_samples = X_train.shape[1]\n",
    "hidden_layer_activation = [1,0,0] #mapped to ReLU\n",
    "NP_Net = NeuralNetwork([number_of_hidden_layers, number_of_input_layer_units, number_of_hidden_layer_units, \\\n",
    "                   number_of_output_layer_units, number_of_samples, hidden_layer_activation])\n",
    "NP_Net.structure_define()\n",
    "\n",
    "\n",
    "#initialize swarm\n",
    "particleSwarm = Swarm(NP_Net, X_train, y_train, maxIt, nPop, X_validation, y_validation) \n",
    "particleSwarm.initialize_swarm(NP_Net)\n",
    "\n",
    "\n",
    "#run main loop\n",
    "print(\"PSO Optimization Running\")\n",
    "NP_Net, np_loss, validation_loss = particleSwarm.pso_loop(NP_Net, np_loss, validation_loss)\n",
    "\n",
    "#calculate time\n",
    "tock = time.time()\n",
    "print(\"Runtime of PSO Net: \", tock-tick)\n",
    "\n",
    "#plot\n",
    "plt.figure(1)\n",
    "plt.semilogy(epoch, np_loss, 'g', label='Training Loss')\n",
    "plt.semilogy(epoch, validation_loss, 'r', label='Validation Loss')\n",
    "plt.legend()\n",
    "plt.xlabel('Epoch')\n",
    "plt.ylabel('Error Amplitude in Log Dimension')\n",
    "plt.show()\n"
   ]
  },
  {
   "cell_type": "markdown",
   "metadata": {},
   "source": [
    "<h3> This segment is for showing Performance of NP_Net on Test Data </h3>"
   ]
  },
  {
   "cell_type": "code",
   "execution_count": 6,
   "metadata": {},
   "outputs": [
    {
     "name": "stdout",
     "output_type": "stream",
     "text": [
      "Average Precision = 0.646310432569974\n",
      "Average Recall = 0.7419665576154123\n",
      "Average F1 Score = 0.6674603174603156\n",
      "Average Accuracy = 0.6676117775354421\n"
     ]
    }
   ],
   "source": [
    "predict = NP_Net.forward_propagation(X_test)\n",
    "y_predict = prediction_mapping(predict)\n",
    "\n",
    "y_test = np.where(y_test==1.0, 1, 0)\n",
    "\n",
    "avg_prec = 0\n",
    "avg_rec = 0\n",
    "avg_f1 = 0\n",
    "avg_accuracy = 0\n",
    "\n",
    "\n",
    "for i in range(y_test.shape[1]):\n",
    "    avg_prec = avg_prec + precision_score(y_test[:,i], y_predict[:,i])\n",
    "    avg_rec = avg_rec + recall_score(y_test[:,i], y_predict[:,i])\n",
    "    avg_f1 = avg_f1 + f1_score(y_test[:,i], y_predict[:,i])\n",
    "    avg_accuracy = avg_accuracy + accuracy_score(y_test[:,i], y_predict[:,i])\n",
    "    \n",
    "print(\"Average Precision =\", avg_prec/y_test.shape[1])\n",
    "print(\"Average Recall =\", avg_rec/y_test.shape[1]) \n",
    "print(\"Average F1 Score =\", avg_f1/y_test.shape[1])\n",
    "print (\"Average Accuracy =\", avg_accuracy/y_test.shape[1])\n"
   ]
  },
  {
   "cell_type": "markdown",
   "metadata": {},
   "source": [
    "<h1> 3. Initialize Neural Network's Weights with PSO and Update with Backpropagation </h1> "
   ]
  },
  {
   "cell_type": "markdown",
   "metadata": {},
   "source": [
    "<p> In this segment, instead of initializing a neural network with random weights, I'll initialize it with specific weights optimized by PSO for 100 iterations with 50 particles in swarm. Once initialized, I'll use typical backpropagation for 1000 iterations for weight optimization. </p>"
   ]
  },
  {
   "cell_type": "code",
   "execution_count": 17,
   "metadata": {},
   "outputs": [
    {
     "name": "stdout",
     "output_type": "stream",
     "text": [
      "Iteration Number:  100 Best Cost:  [3.38156632]\n",
      "Backpropagation Optimization Running\n",
      "Loss in Epoch 0 =  [3.38156632]\n",
      "Validation Loss in Epoch 0 =  [3.36174006]\n",
      "Loss in Epoch 500 =  [2.63787098]\n",
      "Validation Loss in Epoch 500 =  [2.67794606]\n",
      "Loss in Epoch 1000 =  [1.98540659]\n",
      "Validation Loss in Epoch 1000 =  [2.03931492]\n",
      "Loss in Epoch 1500 =  [1.84678963]\n",
      "Validation Loss in Epoch 1500 =  [1.9123399]\n",
      "Loss in Epoch 2000 =  [1.5871516]\n",
      "Validation Loss in Epoch 2000 =  [1.63669535]\n",
      "Runtime of PSO-BP Net:  33.37257361412048\n"
     ]
    },
    {
     "data": {
      "image/png": "[encoded data removed]",
      "text/plain": [
       "<matplotlib.figure.Figure at 0xfe82194e10>"
      ]
     },
     "metadata": {},
     "output_type": "display_data"
    }
   ],
   "source": [
    "#start timer\n",
    "tick = time.time()\n",
    "\n",
    "#global parameters\n",
    "maxIt = 100 #number of generations\n",
    "max_epoch = 2000\n",
    "epoch = np.arange(0, max_epoch+1)\n",
    "nPop = 30\n",
    "rand_loss = np.zeros((maxIt, 1))\n",
    "pb_loss = np.zeros((max_epoch+1, 1))\n",
    "validation_loss = np.zeros((max_epoch+1, 1))\n",
    "\n",
    "############################\n",
    "# Optimize Initial Weights #\n",
    "############################\n",
    "\n",
    "#network parameters\n",
    "number_of_hidden_layers = 2\n",
    "number_of_input_layer_units = X_train.shape[0]\n",
    "number_of_hidden_layer_units = 16\n",
    "number_of_output_layer_units = 5\n",
    "number_of_samples = X_train.shape[1]\n",
    "hidden_layer_activation = [1,0,0] #mapped to ReLU\n",
    "Random_Net = NeuralNetwork([number_of_hidden_layers, number_of_input_layer_units, number_of_hidden_layer_units, \\\n",
    "                   number_of_output_layer_units, number_of_samples, hidden_layer_activation])\n",
    "Random_Net.structure_define()\n",
    "\n",
    "#initialize random optimizer swarm\n",
    "RandOptSwarm = Swarm(Random_Net, X_train, y_train, maxIt, nPop, X_validation, y_validation) #100 generations, 20 particles in each swarm\n",
    "RandOptSwarm.initialize_swarm(Random_Net)\n",
    "\n",
    "#run main loop\n",
    "Rand_Net, rand_loss, validation_loss = RandOptSwarm.pso_loop(Random_Net, rand_loss, validation_loss)\n",
    "\n",
    "##############################################\n",
    "# Extract Weights from the Optimized Network #\n",
    "##############################################\n",
    "opt_weights_for_hidden_layer_1 = Random_Net.layers[1].weights_from_previous_layer\n",
    "opt_weights_for_hidden_layer_2 = Random_Net.layers[2].weights_from_previous_layer\n",
    "opt_weights_for_output_layer   = Random_Net.layers[3].weights_from_previous_layer\n",
    "opt_biases_for_hidden_layer_1  = Random_Net.layers[1].biases_for_this_layer\n",
    "opt_biases_for_hidden_layer_2  = Random_Net.layers[2].biases_for_this_layer\n",
    "opt_biases_for_output_layer    = Random_Net.layers[3].biases_for_this_layer\n",
    "\n",
    "#######################################\n",
    "# Initialize Main Neural Net Randomly #\n",
    "#######################################\n",
    "#network parameters\n",
    "number_of_hidden_layers = 2\n",
    "number_of_input_layer_units = X_train.shape[0]\n",
    "number_of_hidden_layer_units = 16\n",
    "number_of_output_layer_units = 5\n",
    "number_of_samples = X_train.shape[1]\n",
    "hidden_layer_activation = [1,0,0] #mapped to ReLU\n",
    "PB_Net = NeuralNetwork([number_of_hidden_layers, number_of_input_layer_units, number_of_hidden_layer_units, \\\n",
    "                   number_of_output_layer_units, number_of_samples, hidden_layer_activation])\n",
    "PB_Net.structure_define()\n",
    "\n",
    "##############################################################################\n",
    "# Replace Main Neural Net's Random weights with previously optimized weights #\n",
    "##############################################################################\n",
    "PB_Net.layers[1].weights_from_previous_layer = opt_weights_for_hidden_layer_1\n",
    "PB_Net.layers[2].weights_from_previous_layer = opt_weights_for_hidden_layer_2\n",
    "PB_Net.layers[3].weights_from_previous_layer = opt_weights_for_output_layer\n",
    "PB_Net.layers[1].biases_for_this_layer = opt_biases_for_hidden_layer_1\n",
    "PB_Net.layers[2].biases_for_this_layer = opt_biases_for_hidden_layer_2\n",
    "PB_Net.layers[3].biases_for_this_layer = opt_biases_for_output_layer\n",
    "\n",
    "\n",
    "#remove temporary Random_Net Instance\n",
    "del Random_Net\n",
    "\n",
    "\n",
    "######################################################\n",
    "# Update this optimized network with Backpropagation #\n",
    "######################################################\n",
    "\n",
    "\n",
    "#main loop\n",
    "print(\"Backpropagation Optimization Running\")\n",
    "for i in range(max_epoch+1):\n",
    "    PB_Net.forward_propagation(X_train)\n",
    "    pb_loss[i] = PB_Net.calculate_network_loss(y_train)\n",
    "    if(i)%500==0: \n",
    "        print(\"Loss in Epoch\", i, \"= \", pb_loss[i])\n",
    "    PB_Net.backward_propagation(X_train, y_train)\n",
    "    #validation_test\n",
    "    PB_Net.forward_propagation(X_validation)\n",
    "    validation_loss[i] = PB_Net.calculate_network_loss(y_validation)\n",
    "    if(i)%500==0: \n",
    "        print(\"Validation Loss in Epoch\", i, \"= \", validation_loss[i])\n",
    "\n",
    "#calculate time\n",
    "tock = time.time()\n",
    "print(\"Runtime of PSO-BP Net: \", tock-tick)\n",
    "\n",
    "#plot\n",
    "plt.figure(1)\n",
    "plt.semilogy(epoch, pb_loss, 'g', label='Training Loss')\n",
    "plt.semilogy(epoch, validation_loss, 'r', label='Validation Loss')\n",
    "plt.legend()\n",
    "plt.xlabel('Epoch')\n",
    "plt.ylabel('Error Amplitude in Log Dimension')\n",
    "plt.show()\n",
    "\n"
   ]
  },
  {
   "cell_type": "markdown",
   "metadata": {},
   "source": [
    "<h3> This segment is for showing Performance of PB_Net on Test Data </h3>"
   ]
  },
  {
   "cell_type": "code",
   "execution_count": 18,
   "metadata": {},
   "outputs": [
    {
     "name": "stdout",
     "output_type": "stream",
     "text": [
      "Average Precision = 0.873046165030897\n",
      "Average Recall = 0.9125772446383129\n",
      "Average F1 Score = 0.8672145193955422\n",
      "Average Accuracy = 0.8778625954198445\n"
     ]
    }
   ],
   "source": [
    "predict = PB_Net.forward_propagation(X_test)\n",
    "y_predict = prediction_mapping(predict)\n",
    "\n",
    "avg_prec = 0\n",
    "avg_rec = 0\n",
    "avg_f1 = 0\n",
    "avg_accuracy = 0\n",
    "\n",
    "\n",
    "for i in range(y_test.shape[1]):\n",
    "    avg_prec = avg_prec + precision_score(y_test[:,i], y_predict[:,i])\n",
    "    avg_rec = avg_rec + recall_score(y_test[:,i], y_predict[:,i])\n",
    "    avg_f1 = avg_f1 + f1_score(y_test[:,i], y_predict[:,i])\n",
    "    avg_accuracy = avg_accuracy + accuracy_score(y_test[:,i], y_predict[:,i])\n",
    "    \n",
    "print(\"Average Precision =\", avg_prec/y_test.shape[1])\n",
    "print(\"Average Recall =\", avg_rec/y_test.shape[1]) \n",
    "print(\"Average F1 Score =\", avg_f1/y_test.shape[1])\n",
    "print (\"Average Accuracy =\", avg_accuracy/y_test.shape[1])"
   ]
  },
  {
   "cell_type": "markdown",
   "metadata": {},
   "source": [
    "<h1> 4. Neural Network's Structure with (5,20) ES and Weight Update with Backpropagation</h1> "
   ]
  },
  {
   "cell_type": "markdown",
   "metadata": {},
   "source": [
    "<p> <b> Structure: </b> In this segment, I'll first select the Neural Network's Structure with (5,20) evolutionary strategies. I'll do this for 10 generations. After 10 generation, the candidate depicting the best structure for a neural network will be used. A neural network will be initialized with that particular structure and with random weights. Then those weights will be updated using typical backpropagation for 1000 epochs. </p>\n",
    "<p> <b> Chromosome and Gene Details: </b> In (5,20) ES, each chromosome will be a vector like this [4, [1, 0, 0]]. Here, the first element will be an integer between 4-32 inclusive. This will depict the number of nodes in each of the hidden layer. And the second element is a boolean vector which can be mapped - [1, 0, 0] = ReLU, [0, 1, 0] = tanh and [0, 0, 1] = Sigmoid. </p>\n",
    "<p> <b> Selection for Mutation: </b> Coin toss will be done for selecting whether any gene of the chromosome will be mutated or not. For gene A (number of nodes in hidden layer), selection threshold is set to 30% and for Gene B (boolean vector for activation function selection in hidden layer) is set to 50%. </p>\n",
    "<p> <b> Mutation Operators: </b> Mutation operator for A is selecting a random number within [4, 32]. Used this instead of random walk to enforce exploration a bit to avoid possible local minima. Mutation operator for Gene B is simple bitwise rightshift. For instance, [1,0,0] -> [0,1,0]; [0,1,0]->[0,0,1] and [0,0,1]->[1,0,0] </p>\n",
    "<p> <b> Taboo List: </b> I've also maintained a Taboo list of \\lamda (population size = 20) size. Whenever a new_child is created, it is first checked whether it is in the taboo list. If yes, then another new_child is created. If not, then the first element is popped from the taboo list and this new_child is appended at the last of the taboo list besides being added as the new member of the main population. So, each new_candidate will get a fair lifetime of 19 new not-present-in-taboo birth. </p>\n",
    "<p> <b>Fitness Assesment: </b> is done using a simple forward pass without any backward pass. For each candidate structure, a neural network with random weight is created. Then a single forward pass is made and then cost is calculated. This is the measurement of fitness. Lower the cost means fitter the candidate. </p>"
   ]
  },
  {
   "cell_type": "code",
   "execution_count": 9,
   "metadata": {},
   "outputs": [
    {
     "name": "stdout",
     "output_type": "stream",
     "text": [
      "Final Result: \n",
      "[17, [0, 1, 0]]\n",
      "[3.338114]\n",
      "Loss in Epoch 0 =  [3.338114]\n",
      "Validation Loss in Epoch 0 =  [3.33410489]\n",
      "Loss in Epoch 500 =  [3.29731319]\n",
      "Validation Loss in Epoch 500 =  [3.28680665]\n",
      "Loss in Epoch 1000 =  [3.29727242]\n",
      "Validation Loss in Epoch 1000 =  [3.28676376]\n",
      "Loss in Epoch 1500 =  [3.29720805]\n",
      "Validation Loss in Epoch 1500 =  [3.28669923]\n",
      "Loss in Epoch 2000 =  [3.29708343]\n",
      "Validation Loss in Epoch 2000 =  [3.28657555]\n",
      "Runtime of ES-BP Net:  105.28753471374512\n"
     ]
    },
    {
     "data": {
      "image/png": "[encoded data removed]",
      "text/plain": [
       "<matplotlib.figure.Figure at 0xfe8100e6d8>"
      ]
     },
     "metadata": {},
     "output_type": "display_data"
    }
   ],
   "source": [
    "#############################################################################################################\n",
    "                        # Best Structure Selection by (5,20) Evolutionary Strategies\n",
    "#############################################################################################################\n",
    "#start timer\n",
    "tick = time.time()\n",
    "\n",
    "#######################################\n",
    "# Variables\n",
    "#######################################\n",
    "\n",
    "#selection parameter\n",
    "mu = 5\n",
    "pop_size = 20              #number of child networks (this is \\lamda)\n",
    "pop_parent = []            #parent network hyperparameter container\n",
    "\n",
    "activation_inside = ['ReLU', 'tanh', 'sigmoid']\n",
    "activation_bool = [[1, 0, 0], [0, 1, 0], [0, 0, 1]]\n",
    "taboo = [] #add restriction in random selection  \n",
    " \n",
    "#######################################\n",
    "# Functions\n",
    "#######################################\n",
    "\n",
    "# parent initialize in random with restriction of uniqueness\n",
    "def parent_initialize_in_restriction(chromosome):\n",
    "    np.random.seed(chromosome)            #initialize all random with fixed seed\n",
    "    new_candidate = [np.random.randint(4,33), activation_bool[np.random.randint(0,3)]]\n",
    "    if new_candidate in taboo:\n",
    "        return \"In Taboo\"\n",
    "    else:\n",
    "        return new_candidate\n",
    "    #return parent_initialize_in_restriction(chromosome) if new_candidate in taboo else new_candidate\n",
    "\n",
    "# here we will be selecting top \\mu number of parents\n",
    "# we are basically applying truncation selection\n",
    "\n",
    "def parentSelection(pop_parent, pop_final_loss):\n",
    "    fittest_parents = []\n",
    "    sorted_indices = np.argsort(pop_final_loss, axis=0)\n",
    "    for i in range(mu):\n",
    "        fittest_parents.append(pop_parent[sorted_indices[i][0]])\n",
    "    return fittest_parents\n",
    "\n",
    "#mutation operator for the first element\n",
    "def mutationA(selectionA, selected_parents, i, max_bound, min_bound):\n",
    "    #The Toss for A\n",
    "    tossA = random.random()\n",
    "    copy_A = selected_parents[i][0]\n",
    "    if tossA > selectionA: #selection pressure 30%\n",
    "        copy_A = np.random.randint(min_bound,max_bound)\n",
    "    return copy_A\n",
    "        \n",
    "#mutation operator for the second element\n",
    "def mutationB(selectionB, selected_parents, i):\n",
    "    #The Toss for B\n",
    "    tossB = random.random()\n",
    "    copy_B = selected_parents[i][1]\n",
    "    if tossB > selectionB: #selection pressure 50%\n",
    "        #Implement bitwise rightshift in boolean vector\n",
    "        index = selected_parents[i][1].index(1)\n",
    "        copy_B = [0,0,0]\n",
    "        index = index + 1\n",
    "        if index > 2:\n",
    "            index = 0\n",
    "        copy_B[index] = 1\n",
    "    return copy_B                \n",
    "\n",
    "def breeding(selected_parents):\n",
    "    max_bound = 129\n",
    "    min_bound = 4\n",
    "    pop_parent = []    #empty current population\n",
    "    #generate lamda children\n",
    "    for i in range(len(selected_parents)):\n",
    "        #inner loop control\n",
    "        for j in range(int(pop_size/mu)):\n",
    "            #mutation for A\n",
    "            copyA = mutationA(0.3, selected_parents, i, max_bound, min_bound)\n",
    "            #mutation for B\n",
    "            copyB = mutationB(0.5, selected_parents, i)    \n",
    "            #new child candidate\n",
    "            new_child = [copyA, copyB]\n",
    "            #check in taboo list\n",
    "            check = 1\n",
    "            while check <= 5:\n",
    "                if new_child in taboo:   #ensure that no child can be in taboo list\n",
    "                    copyA = mutationA(0.3, selected_parents, i, max_bound, min_bound)\n",
    "                    copyB = mutationB(0.5, selected_parents, i)    \n",
    "                    new_child = [copyA, copyB]\n",
    "                    check = check + 1\n",
    "                else:\n",
    "                    break\n",
    "            taboo.pop(0)\n",
    "            taboo.append(new_child)\n",
    "            pop_parent.append(new_child)\n",
    "    return pop_parent\n",
    "\n",
    "####################################\n",
    "# Step 1: Population Initialization\n",
    "####################################\n",
    "c_check = 1 #being used to avoid generating duplicate values already in taboo list from using same seed\n",
    "for chromosome in range(pop_size):\n",
    "    new_candidate = parent_initialize_in_restriction(c_check)\n",
    "    while (new_candidate==\"In Taboo\"):\n",
    "        c_check = c_check + 1\n",
    "        new_candidate = parent_initialize_in_restriction(c_check)\n",
    "    taboo.append(new_candidate)\n",
    "    pop_parent.append(new_candidate)\n",
    "\n",
    "#########################################\n",
    "# Step 2: ES Loop for fitness assessment\n",
    "#########################################\n",
    "\n",
    "best_chromosome = np.zeros((1, 2))\n",
    "best_loss = 0\n",
    "round_num = 1\n",
    "global_best_chromosome = np.zeros((1,2))\n",
    "global_best_loss = 0\n",
    "\n",
    "while round_num <=30:\n",
    "         \n",
    "#     print(\"---------------------------------------------\")\n",
    "#     print(\"Generation \", round_num, \" Population:\")\n",
    "#     print(\"---------------------------------------------\")\n",
    "    pop_final_loss = np.zeros((pop_size, 1))\n",
    "    for i in range(pop_size):\n",
    "\n",
    "        ############################################\n",
    "        # Step 3: Individual Fitness Assessment\n",
    "        ############################################\n",
    "\n",
    "        # Neural Network Structure Define\n",
    "        number_of_hidden_layers = 2\n",
    "        number_of_input_layer_units = X_train.shape[0]\n",
    "        number_of_hidden_layer_units = pop_parent[i][0]\n",
    "        number_of_output_layer_units = 5\n",
    "        number_of_samples = X_train.shape[1]\n",
    "        hidden_layer_activation = pop_parent[i][1]\n",
    "        E_Net = NeuralNetwork([number_of_hidden_layers, number_of_input_layer_units, number_of_hidden_layer_units, \\\n",
    "                           number_of_output_layer_units, number_of_samples, hidden_layer_activation])\n",
    "        E_Net.structure_define()\n",
    "        \n",
    "        #one single forward pass for fitness\n",
    "        E_Net.forward_propagation(X_train)\n",
    "        loss = E_Net.calculate_network_loss(y_train)\n",
    "        \n",
    "        # Loss calculation\n",
    "        pop_final_loss[i] = loss\n",
    "\n",
    "        #save the best candidate\n",
    "        if i == 0:\n",
    "            best_chromosome = pop_parent[i]\n",
    "            best_loss = pop_final_loss[i]\n",
    "        elif pop_final_loss[i] < best_loss:\n",
    "            best_chromosome = pop_parent[i]\n",
    "            best_loss = pop_final_loss[i]\n",
    "    \n",
    "    #save global best of all generations\n",
    "    if round_num==1:\n",
    "        global_best_loss = best_loss\n",
    "        global_best_chromosome = best_chromosome\n",
    "    elif best_loss < global_best_loss:\n",
    "        global_best_loss = best_loss\n",
    "        global_best_chromosome = best_chromosome\n",
    "\n",
    "#     print (\"Global Best Loss after Generation: \", round_num, \"= \", global_best_loss)\n",
    "#     print (\"Global Best Chromosome after Generation: \", round_num, \"= \", global_best_chromosome)\n",
    "#     print(\"---------------------------------------------\")\n",
    "    ############################################\n",
    "    # Step 4: Truncation Selection\n",
    "    ############################################\n",
    "\n",
    "    selected_parents = parentSelection(pop_parent, pop_final_loss) #select \\mu fittest parents\n",
    "\n",
    "    ############################################\n",
    "    # Step 5: Population Regeneration\n",
    "    ############################################\n",
    " \n",
    "    pop_parent = breeding(selected_parents)\n",
    "    round_num = round_num + 1\n",
    "    \n",
    "print(\"Final Result: \")\n",
    "print(global_best_chromosome)\n",
    "print(global_best_loss)\n",
    "\n",
    "#####################################################################################################################\n",
    "        # Initialize Network with this structure, random weights and update weights with backpropagation only\n",
    "#####################################################################################################################\n",
    "\n",
    "#############\n",
    "# Variables #\n",
    "#############\n",
    "num_epoch = 2000\n",
    "epoch = np.arange(0, num_epoch+1)\n",
    "es_loss = np.zeros((num_epoch+1, 1))\n",
    "validation_loss = np.zeros((num_epoch+1, 1))\n",
    "\n",
    "#######################################\n",
    "# Initialize Main Neural Net Randomly #\n",
    "#######################################\n",
    "#network parameters\n",
    "number_of_hidden_layers = 2\n",
    "number_of_input_layer_units = X_train.shape[0]\n",
    "number_of_hidden_layer_units = global_best_chromosome[0]\n",
    "number_of_output_layer_units = 5\n",
    "number_of_samples = X_train.shape[1]\n",
    "hidden_layer_activation = global_best_chromosome[1] \n",
    "ES_Net = NeuralNetwork([number_of_hidden_layers, number_of_input_layer_units, number_of_hidden_layer_units, \\\n",
    "                   number_of_output_layer_units, number_of_samples, hidden_layer_activation])\n",
    "ES_Net.structure_define()\n",
    "\n",
    "for i in range(num_epoch+1):\n",
    "    ES_Net.forward_propagation(X_train)\n",
    "    es_loss[i] = ES_Net.calculate_network_loss(y_train)\n",
    "    if(i)%500==0: \n",
    "        print(\"Loss in Epoch\", i, \"= \", es_loss[i])\n",
    "    ES_Net.backward_propagation(X_train, y_train)\n",
    "    #validation_test\n",
    "    ES_Net.forward_propagation(X_validation)\n",
    "    validation_loss[i] = ES_Net.calculate_network_loss(y_validation)\n",
    "    if(i)%500==0: \n",
    "        print(\"Validation Loss in Epoch\", i, \"= \", validation_loss[i])\n",
    "    \n",
    "#calculate time\n",
    "tock = time.time()\n",
    "print(\"Runtime of ES-BP Net: \", tock-tick)\n",
    "\n",
    "#plot\n",
    "plt.figure(1)\n",
    "plt.semilogy(epoch, es_loss, 'g', label='Training Loss')\n",
    "plt.semilogy(epoch, validation_loss, 'r', label='Validation Loss')\n",
    "plt.legend()\n",
    "plt.xlabel('Epoch')\n",
    "plt.ylabel('Error Amplitude in Log Dimension')\n",
    "plt.show()\n",
    "\n"
   ]
  },
  {
   "cell_type": "markdown",
   "metadata": {},
   "source": [
    "<h3> This segment is for showing Performance of ES_Net on Test Data </h3>"
   ]
  },
  {
   "cell_type": "code",
   "execution_count": 10,
   "metadata": {},
   "outputs": [
    {
     "name": "stdout",
     "output_type": "stream",
     "text": [
      "Average Precision = 0.6472191930207197\n",
      "Average Recall = 0.49705561613958643\n",
      "Average F1 Score = 0.5423378511710051\n",
      "Average Accuracy = 0.6069792802617264\n"
     ]
    }
   ],
   "source": [
    "predict = ES_Net.forward_propagation(X_test)\n",
    "y_predict = prediction_mapping(predict)\n",
    "\n",
    "avg_prec = 0\n",
    "avg_rec = 0\n",
    "avg_f1 = 0\n",
    "avg_accuracy = 0\n",
    "\n",
    "for i in range(y_test.shape[1]):\n",
    "    avg_prec = avg_prec + precision_score(y_test[:,i], y_predict[:,i])\n",
    "    avg_rec = avg_rec + recall_score(y_test[:,i], y_predict[:,i])\n",
    "    avg_f1 = avg_f1 + f1_score(y_test[:,i], y_predict[:,i])\n",
    "    avg_accuracy = avg_accuracy + accuracy_score(y_test[:,i], y_predict[:,i])\n",
    "    \n",
    "print(\"Average Precision =\", avg_prec/y_test.shape[1])\n",
    "print(\"Average Recall =\", avg_rec/y_test.shape[1]) \n",
    "print(\"Average F1 Score =\", avg_f1/y_test.shape[1])\n",
    "print (\"Average Accuracy =\", avg_accuracy/y_test.shape[1])"
   ]
  },
  {
   "cell_type": "markdown",
   "metadata": {},
   "source": [
    "<h1> 5. Neural Network's Structure with (5,20) ES and Best one's Weight Optimize with PSO Only, No Backpropagation. </h1>"
   ]
  },
  {
   "cell_type": "markdown",
   "metadata": {},
   "source": [
    "<p> In this segment, I'll select the best structure for Neural Network with (5,20) ES. Then I'll initialize a Neural Net with this structure and initialize the weights randomly. Then I'll update the weights with PSO Only. No Backpropagation will be used. </p>\n",
    "\n",
    "<p> <b> Special Note: </b> In Section 4's Result, we can see that it was stuck in a local minima. After even 1000 epochs of backpropagation, it could not escape it. But, in this section, it can be seen that, the network with the same structure configuration of previous section has escaped local minima successfully due to enforced exploration by PSO.  </p> "
   ]
  },
  {
   "cell_type": "code",
   "execution_count": 11,
   "metadata": {},
   "outputs": [
    {
     "name": "stdout",
     "output_type": "stream",
     "text": [
      "PSO Optimization Running\n",
      "Iteration Number:  100 Best Cost:  [2.87614897]\n",
      "Iteration Number:  200 Best Cost:  [2.87614897]\n",
      "Iteration Number:  300 Best Cost:  [2.77426521]\n",
      "Iteration Number:  400 Best Cost:  [2.76941978]\n",
      "Iteration Number:  500 Best Cost:  [2.75596565]\n",
      "Iteration Number:  600 Best Cost:  [2.72535121]\n",
      "Iteration Number:  700 Best Cost:  [2.72535121]\n",
      "Iteration Number:  800 Best Cost:  [2.71886721]\n",
      "Iteration Number:  900 Best Cost:  [2.71404716]\n",
      "Iteration Number:  1000 Best Cost:  [2.71404716]\n",
      "Runtime of ES-PSO Net:  1412.8206143379211\n"
     ]
    },
    {
     "data": {
      "image/png": "[encoded data removed]",
      "text/plain": [
       "<matplotlib.figure.Figure at 0xfe81022278>"
      ]
     },
     "metadata": {},
     "output_type": "display_data"
    }
   ],
   "source": [
    "#I'll take the best chromosome found in section 4 as it generated the same best chromosome for almost all the times\n",
    "\n",
    "#start timer\n",
    "tick = time.time()\n",
    "\n",
    "#######################################\n",
    "# Variables #\n",
    "#######################################\n",
    "\n",
    "maxIt = 1000 #number of generations\n",
    "epoch = np.arange(1, maxIt+1)\n",
    "nPop = 50\n",
    "esps_loss = np.zeros((maxIt, 1))\n",
    "validation_loss = np.zeros((maxIt, 1))\n",
    "\n",
    "#######################################\n",
    "# Initialize Main Neural Net Randomly #\n",
    "#######################################\n",
    "#network parameters\n",
    "number_of_hidden_layers = 2\n",
    "number_of_input_layer_units = X_train.shape[0]\n",
    "number_of_hidden_layer_units = global_best_chromosome[0]\n",
    "number_of_output_layer_units = 5\n",
    "number_of_samples = X_train.shape[1]\n",
    "hidden_layer_activation = global_best_chromosome[1] \n",
    "ESPS_Net = NeuralNetwork([number_of_hidden_layers, number_of_input_layer_units, number_of_hidden_layer_units, \\\n",
    "                   number_of_output_layer_units, number_of_samples, hidden_layer_activation])\n",
    "ESPS_Net.structure_define()\n",
    "\n",
    "#initialize swarm\n",
    "ESPSSwarm = Swarm(ESPS_Net, X_train, y_train, maxIt, nPop, X_validation, y_validation) \n",
    "ESPSSwarm.initialize_swarm(ESPS_Net)\n",
    "\n",
    "#run main loop\n",
    "print(\"PSO Optimization Running\")\n",
    "ESPS_Net, esps_loss, validation_loss = ESPSSwarm.pso_loop(ESPS_Net, esps_loss, validation_loss)\n",
    "\n",
    "#calculate time\n",
    "tock = time.time()\n",
    "print(\"Runtime of ES-PSO Net: \", tock-tick)\n",
    "\n",
    "#plot\n",
    "plt.figure(1)\n",
    "plt.semilogy(epoch, esps_loss, 'g', label='Training Loss')\n",
    "plt.semilogy(epoch, validation_loss, 'r', label='Validation Loss')\n",
    "plt.legend()\n",
    "plt.xlabel('Epoch')\n",
    "plt.ylabel('Error Amplitude in Log Dimension')\n",
    "plt.show()"
   ]
  },
  {
   "cell_type": "markdown",
   "metadata": {},
   "source": [
    "<h3> This segment is for showing Performance of ESPS_Net on Test Data </h3>"
   ]
  },
  {
   "cell_type": "code",
   "execution_count": 12,
   "metadata": {},
   "outputs": [
    {
     "name": "stdout",
     "output_type": "stream",
     "text": [
      "Average Precision = 0.7030170846964732\n",
      "Average Recall = 0.6733369683751368\n",
      "Average F1 Score = 0.6503712935555895\n",
      "Average Accuracy = 0.6752453653217032\n"
     ]
    }
   ],
   "source": [
    "predict = ESPS_Net.forward_propagation(X_test)\n",
    "y_predict = prediction_mapping(predict)\n",
    "\n",
    "avg_prec = 0\n",
    "avg_rec = 0\n",
    "avg_f1 = 0\n",
    "avg_accuracy = 0\n",
    "\n",
    "\n",
    "for i in range(y_test.shape[1]):\n",
    "    avg_prec = avg_prec + precision_score(y_test[:,i], y_predict[:,i])\n",
    "    avg_rec = avg_rec + recall_score(y_test[:,i], y_predict[:,i])\n",
    "    avg_f1 = avg_f1 + f1_score(y_test[:,i], y_predict[:,i])\n",
    "    avg_accuracy = avg_accuracy + accuracy_score(y_test[:,i], y_predict[:,i])\n",
    "    \n",
    "print(\"Average Precision =\", avg_prec/y_test.shape[1])\n",
    "print(\"Average Recall =\", avg_rec/y_test.shape[1]) \n",
    "print(\"Average F1 Score =\", avg_f1/y_test.shape[1])\n",
    "print (\"Average Accuracy =\", avg_accuracy/y_test.shape[1])"
   ]
  },
  {
   "cell_type": "markdown",
   "metadata": {},
   "source": [
    "<h1> 6. Neural Network's Structure with (5,20) ES and Best One's Weight Initialize with PSO and Update with Backprop </h1>"
   ]
  },
  {
   "cell_type": "markdown",
   "metadata": {},
   "source": [
    "<p> In this final segment, A Neural Network's Structure that was fixed in Segment 4 will be used. Then, a random network's (same structure) initial weight will be optimized by 100 rounds of PSO with 50 Particles each. Then with that optimized weight and structure the final neural network will be instantiated and then will be optimized with 1000 rounds of back propagation. </p> "
   ]
  },
  {
   "cell_type": "code",
   "execution_count": 13,
   "metadata": {},
   "outputs": [
    {
     "name": "stdout",
     "output_type": "stream",
     "text": [
      "PSO Optimization Running\n",
      "Iteration Number:  100 Best Cost:  [3.32042444]\n",
      "Backpropagation Optimization Running\n",
      "Loss in Epoch 0 =  [3.32042444]\n",
      "Validation Loss in Epoch 0 =  [3.32008539]\n",
      "Loss in Epoch 500 =  [3.28604644]\n",
      "Validation Loss in Epoch 500 =  [3.276272]\n",
      "Loss in Epoch 1000 =  [3.19957998]\n",
      "Validation Loss in Epoch 1000 =  [3.19278065]\n",
      "Loss in Epoch 1500 =  [3.06231735]\n",
      "Validation Loss in Epoch 1500 =  [3.05729219]\n",
      "Loss in Epoch 2000 =  [2.87523727]\n",
      "Validation Loss in Epoch 2000 =  [2.89673278]\n",
      "Runtime of ES-PSO-BP Net:  136.31446075439453\n"
     ]
    },
    {
     "data": {
      "image/png": "[encoded data removed]",
      "text/plain": [
       "<matplotlib.figure.Figure at 0xfe81009320>"
      ]
     },
     "metadata": {},
     "output_type": "display_data"
    }
   ],
   "source": [
    "#start timer\n",
    "tick = time.time()\n",
    "\n",
    "#global parameters\n",
    "maxIt = 100 #number of generations\n",
    "max_epoch = 2000\n",
    "epoch = np.arange(0, max_epoch+1)\n",
    "nPop = 20\n",
    "rand_loss = np.zeros((maxIt, 1))\n",
    "espsb_loss = np.zeros((max_epoch+1, 1))\n",
    "validation_loss = np.zeros((max_epoch+1, 1))\n",
    "\n",
    "############################\n",
    "# Optimize Initial Weights #\n",
    "############################\n",
    "\n",
    "#network parameters\n",
    "number_of_hidden_layers = 2\n",
    "number_of_input_layer_units = X_train.shape[0]\n",
    "number_of_hidden_layer_units = global_best_chromosome[0]\n",
    "number_of_output_layer_units = 5\n",
    "number_of_samples = X_train.shape[1]\n",
    "hidden_layer_activation = global_best_chromosome[1] \n",
    "Random_Net = NeuralNetwork([number_of_hidden_layers, number_of_input_layer_units, number_of_hidden_layer_units, \\\n",
    "                   number_of_output_layer_units, number_of_samples, hidden_layer_activation])\n",
    "Random_Net.structure_define()\n",
    "\n",
    "#initialize random optimizer swarm\n",
    "RandOptSwarm = Swarm(Random_Net, X_train, y_train, maxIt, nPop, X_validation, y_validation) #100 generations, 20 particles in each swarm\n",
    "RandOptSwarm.initialize_swarm(Random_Net)\n",
    "\n",
    "#run main loop\n",
    "print(\"PSO Optimization Running\")\n",
    "Random_Net, rand_loss, validation_loss = RandOptSwarm.pso_loop(Random_Net, rand_loss, validation_loss)\n",
    "\n",
    "\n",
    "##############################################\n",
    "# Extract Weights from the Optimized Network #\n",
    "##############################################\n",
    "opt_weights_for_hidden_layer_1 = Random_Net.layers[1].weights_from_previous_layer\n",
    "opt_weights_for_hidden_layer_2 = Random_Net.layers[2].weights_from_previous_layer\n",
    "opt_weights_for_output_layer   = Random_Net.layers[3].weights_from_previous_layer\n",
    "opt_biases_for_hidden_layer_1  = Random_Net.layers[1].biases_for_this_layer\n",
    "opt_biases_for_hidden_layer_2  = Random_Net.layers[2].biases_for_this_layer\n",
    "opt_biases_for_output_layer    = Random_Net.layers[3].biases_for_this_layer\n",
    "\n",
    "#######################################\n",
    "# Initialize Main Neural Net Randomly #\n",
    "#######################################\n",
    "#network parameters\n",
    "number_of_hidden_layers = 2\n",
    "number_of_input_layer_units = X_train.shape[0]\n",
    "number_of_hidden_layer_units = global_best_chromosome[0]\n",
    "number_of_output_layer_units = 5\n",
    "number_of_samples = X_train.shape[1]\n",
    "hidden_layer_activation = global_best_chromosome[1]\n",
    "ESPSB_Net = NeuralNetwork([number_of_hidden_layers, number_of_input_layer_units, number_of_hidden_layer_units, \\\n",
    "                   number_of_output_layer_units, number_of_samples, hidden_layer_activation])\n",
    "ESPSB_Net.structure_define()\n",
    "\n",
    "##############################################################################\n",
    "# Replace Main Neural Net's Random weights with previously optimized weights #\n",
    "##############################################################################\n",
    "ESPSB_Net.layers[1].weights_from_previous_layer = opt_weights_for_hidden_layer_1\n",
    "ESPSB_Net.layers[2].weights_from_previous_layer = opt_weights_for_hidden_layer_2\n",
    "ESPSB_Net.layers[3].weights_from_previous_layer = opt_weights_for_output_layer\n",
    "ESPSB_Net.layers[1].biases_for_this_layer = opt_biases_for_hidden_layer_1\n",
    "ESPSB_Net.layers[2].biases_for_this_layer = opt_biases_for_hidden_layer_2\n",
    "ESPSB_Net.layers[3].biases_for_this_layer = opt_biases_for_output_layer\n",
    "\n",
    "\n",
    "#remove temporary Random_Net Instance\n",
    "del Random_Net\n",
    "\n",
    "\n",
    "######################################################\n",
    "# Update this optimized network with Backpropagation #\n",
    "######################################################\n",
    "\n",
    "\n",
    "#main loop\n",
    "print(\"Backpropagation Optimization Running\")\n",
    "for i in range(max_epoch+1):\n",
    "    ESPSB_Net.forward_propagation(X_train)\n",
    "    espsb_loss[i] = ESPSB_Net.calculate_network_loss(y_train)\n",
    "    if(i)%500==0: \n",
    "        print(\"Loss in Epoch\", i, \"= \", espsb_loss[i])\n",
    "    ESPSB_Net.backward_propagation(X_train, y_train)\n",
    "    #validation_test\n",
    "    ESPSB_Net.forward_propagation(X_validation)\n",
    "    validation_loss[i] = ESPSB_Net.calculate_network_loss(y_validation)\n",
    "    if(i)%500==0: \n",
    "        print(\"Validation Loss in Epoch\", i, \"= \", validation_loss[i])\n",
    "\n",
    "    \n",
    "#calculate time\n",
    "tock = time.time()\n",
    "print(\"Runtime of ES-PSO-BP Net: \", tock-tick)    \n",
    "\n",
    "#plot\n",
    "plt.figure(1)\n",
    "plt.semilogy(epoch, espsb_loss, 'g', label='Training Loss')\n",
    "plt.semilogy(epoch, validation_loss, 'r', label='Validation Loss')\n",
    "plt.legend()\n",
    "plt.xlabel('Epoch')\n",
    "plt.ylabel('Error Amplitude in Log Dimension')\n",
    "plt.show()\n"
   ]
  },
  {
   "cell_type": "markdown",
   "metadata": {},
   "source": [
    "<h3> This segment is for showing Performance of ESPSB_Net on Test Data </h3>"
   ]
  },
  {
   "cell_type": "code",
   "execution_count": 14,
   "metadata": {},
   "outputs": [
    {
     "name": "stdout",
     "output_type": "stream",
     "text": [
      "Average Precision = 0.7614503816793893\n",
      "Average Recall = 0.7311159578335146\n",
      "Average F1 Score = 0.6968375136314048\n",
      "Average Accuracy = 0.7352235550708832\n"
     ]
    }
   ],
   "source": [
    "predict = ESPSB_Net.forward_propagation(X_test)\n",
    "y_predict = prediction_mapping(predict)\n",
    "\n",
    "avg_prec = 0\n",
    "avg_rec = 0\n",
    "avg_f1 = 0\n",
    "avg_accuracy = 0\n",
    "\n",
    "\n",
    "for i in range(y_test.shape[1]):\n",
    "    avg_prec = avg_prec + precision_score(y_test[:,i], y_predict[:,i])\n",
    "    avg_rec = avg_rec + recall_score(y_test[:,i], y_predict[:,i])\n",
    "    avg_f1 = avg_f1 + f1_score(y_test[:,i], y_predict[:,i])\n",
    "    avg_accuracy = avg_accuracy + accuracy_score(y_test[:,i], y_predict[:,i])\n",
    "    \n",
    "print(\"Average Precision =\", avg_prec/y_test.shape[1])\n",
    "print(\"Average Recall =\", avg_rec/y_test.shape[1]) \n",
    "print(\"Average F1 Score =\", avg_f1/y_test.shape[1])\n",
    "print (\"Average Accuracy =\", avg_accuracy/y_test.shape[1])"
   ]
  }
 ],
 "metadata": {
  "kernelspec": {
   "display_name": "Python 3",
   "language": "python",
   "name": "python3"
  },
  "language_info": {
   "codemirror_mode": {
    "name": "ipython",
    "version": 3
   },
   "file_extension": ".py",
   "mimetype": "text/x-python",
   "name": "python",
   "nbconvert_exporter": "python",
   "pygments_lexer": "ipython3",
   "version": "3.6.2"
  }
 },
 "nbformat": 4,
 "nbformat_minor": 2
}
